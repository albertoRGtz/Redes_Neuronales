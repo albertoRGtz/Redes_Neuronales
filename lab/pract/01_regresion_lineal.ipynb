{
 "cells": [
  {
   "cell_type": "markdown",
   "metadata": {},
   "source": [
    "# Práctica 1 #\n",
    "\n",
    "## Regresión Lineal ##\n",
    "\n",
    "### Redes Neuronales ###\n",
    "\n",
    "**Jesús Alberto Reyes Gutiérrez**\n",
    "\n",
    "Profesor \tVíctor Germán Mijangos de la Cruz\n",
    "\n",
    "Ayudante \tAlan Gabriel Romero Pacheco\n",
    "\n",
    "Ayud. Lab. \tEmilio Alejandro Morales Juárez"
   ]
  },
  {
   "cell_type": "code",
   "execution_count": null,
   "metadata": {},
   "outputs": [],
   "source": []
  }
 ],
 "metadata": {
  "language_info": {
   "name": "python"
  },
  "orig_nbformat": 4
 },
 "nbformat": 4,
 "nbformat_minor": 2
}
