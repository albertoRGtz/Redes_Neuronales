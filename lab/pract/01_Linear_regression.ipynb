{
  "cells": [
    {
      "cell_type": "markdown",
      "metadata": {
        "id": "U1-SPq9eCSU1"
      },
      "source": [
        "# Práctica 1 #\n",
        "\n",
        "### Redes Neuronales ###\n",
        "\n",
        "**Jesús Alberto Reyes Gutiérrez**\n",
        "\n",
        "Profesor \tVíctor Germán Mijangos de la Cruz\n",
        "\n",
        "Ayudante \tAlan Gabriel Romero Pacheco\n",
        "\n",
        "Ayud. Lab. \tEmilio Alejandro Morales Juárez\n",
        "\n",
        "## Regresión Lineal ##\n",
        "\n",
        "Implementar el algoritmo de regresión lineal al dataset de _load_diabetes_ en _sklearn_.\n",
        "\n",
        "1. Obtener el dataset, los datos de entrada _X_ y los targets _Y_.\n",
        "\n",
        "2. Separar los datos en 70-30 (usar _train_test_split_)\n",
        "\n",
        "3. Entrenar el modelo con el 70% de los datos.\n",
        "\n",
        "4. Evaluar con la métrica de Error cuadrático media (_mean_squared_error_) y el score R2 (_r2_score_)\n",
        "\n",
        "\n",
        "Notebook: [Redes Neuronales](https://github.com/VMijangos/Redes_Neuronales/blob/main/Notebooks/02%20Linear_regression.ipynb)."
      ]
    },
    {
      "cell_type": "code",
      "execution_count": 149,
      "metadata": {
        "id": "u-_rsHYNCSU6"
      },
      "outputs": [],
      "source": [
        "import numpy as np\n",
        "import matplotlib.pyplot as plt\n",
        "from sklearn.datasets import load_diabetes\n",
        "from sklearn.model_selection import train_test_split\n",
        "import pandas as pd"
      ]
    },
    {
      "cell_type": "markdown",
      "metadata": {
        "id": "L_jTQDPXCSU8"
      },
      "source": [
        "# Regresión lineal con una variable\n",
        "## 1. Preparación de los datos\n",
        "\n",
        "En primer lugar, cargamos el dataset. Para visualizar mejor el dataset, utilizamos pandas."
      ]
    },
    {
      "cell_type": "code",
      "execution_count": 150,
      "metadata": {
        "id": "cAYmi3K2CSU9",
        "outputId": "7e62c014-a264-4b88-a16c-f9f5e370cbd6",
        "colab": {
          "base_uri": "https://localhost:8080/"
        }
      },
      "outputs": [
        {
          "output_type": "stream",
          "name": "stdout",
          "text": [
            "['age', 'sex', 'bmi', 'bp', 's1', 's2', 's3', 's4', 's5', 's6']\n"
          ]
        }
      ],
      "source": [
        "#Carga dataset\n",
        "data = load_diabetes()\n",
        "#Visualiza variables\n",
        "print(data.feature_names)"
      ]
    },
    {
      "cell_type": "code",
      "execution_count": 151,
      "metadata": {
        "id": "edQJTvbVCSU_"
      },
      "outputs": [],
      "source": [
        "#Formato de pandas\n",
        "table_data = pd.DataFrame(data.data, columns=data.feature_names)\n",
        "#Agregamos la clase a la tabla\n",
        "table_data['Y'] = data.target"
      ]
    },
    {
      "cell_type": "markdown",
      "metadata": {
        "id": "kVYF_zXcCSVA"
      },
      "source": [
        "Una descripción del dataset se da a continuación a partir del comando `.DESCR`."
      ]
    },
    {
      "cell_type": "code",
      "execution_count": 152,
      "metadata": {
        "id": "dAPjgKPXCSVC",
        "outputId": "88a463cf-3ecd-4c50-dcf3-9ef2201ba07f",
        "colab": {
          "base_uri": "https://localhost:8080/"
        }
      },
      "outputs": [
        {
          "output_type": "stream",
          "name": "stdout",
          "text": [
            ".. _diabetes_dataset:\n",
            "\n",
            "Diabetes dataset\n",
            "----------------\n",
            "\n",
            "Ten baseline variables, age, sex, body mass index, average blood\n",
            "pressure, and six blood serum measurements were obtained for each of n =\n",
            "442 diabetes patients, as well as the response of interest, a\n",
            "quantitative measure of disease progression one year after baseline.\n",
            "\n",
            "**Data Set Characteristics:**\n",
            "\n",
            "  :Number of Instances: 442\n",
            "\n",
            "  :Number of Attributes: First 10 columns are numeric predictive values\n",
            "\n",
            "  :Target: Column 11 is a quantitative measure of disease progression one year after baseline\n",
            "\n",
            "  :Attribute Information:\n",
            "      - age     age in years\n",
            "      - sex\n",
            "      - bmi     body mass index\n",
            "      - bp      average blood pressure\n",
            "      - s1      tc, total serum cholesterol\n",
            "      - s2      ldl, low-density lipoproteins\n",
            "      - s3      hdl, high-density lipoproteins\n",
            "      - s4      tch, total cholesterol / HDL\n",
            "      - s5      ltg, possibly log of serum triglycerides level\n",
            "      - s6      glu, blood sugar level\n",
            "\n",
            "Note: Each of these 10 feature variables have been mean centered and scaled by the standard deviation times `n_samples` (i.e. the sum of squares of each column totals 1).\n",
            "\n",
            "Source URL:\n",
            "https://www4.stat.ncsu.edu/~boos/var.select/diabetes.html\n",
            "\n",
            "For more information see:\n",
            "Bradley Efron, Trevor Hastie, Iain Johnstone and Robert Tibshirani (2004) \"Least Angle Regression,\" Annals of Statistics (with discussion), 407-499.\n",
            "(https://web.stanford.edu/~hastie/Papers/LARS/LeastAngle_2002.pdf)\n"
          ]
        }
      ],
      "source": [
        "#Información del dataset\n",
        "print(data.DESCR)"
      ]
    },
    {
      "cell_type": "markdown",
      "metadata": {
        "id": "b3AZiSPwCSVD"
      },
      "source": [
        "Con la tabla de pandas que hemos creado, podemos definir una correlación entre las variables. Ya que buscamos establecer una regresión lineal, los elementos que muestren una mayor correlación con la variable $Y$ (precio) serán los que nos servirán mejor.  \n",
        "\n",
        "La correlación se estima como:\n",
        "\n",
        "$$\\rho(X,Y) = \\frac{Cov(X,Y)}{\\sigma_X \\sigma_Y}$$"
      ]
    },
    {
      "cell_type": "code",
      "execution_count": 153,
      "metadata": {
        "id": "FgTHZLHlCSVE",
        "outputId": "2a112503-0493-4fb9-82be-0d9a5eb1796d",
        "colab": {
          "base_uri": "https://localhost:8080/",
          "height": 394
        }
      },
      "outputs": [
        {
          "output_type": "execute_result",
          "data": {
            "text/plain": [
              "          age       sex       bmi        bp        s1        s2        s3  \\\n",
              "age  1.000000  0.173737  0.185085  0.335427  0.260061  0.219243 -0.075181   \n",
              "sex  0.173737  1.000000  0.088161  0.241013  0.035277  0.142637 -0.379090   \n",
              "bmi  0.185085  0.088161  1.000000  0.395415  0.249777  0.261170 -0.366811   \n",
              "bp   0.335427  0.241013  0.395415  1.000000  0.242470  0.185558 -0.178761   \n",
              "s1   0.260061  0.035277  0.249777  0.242470  1.000000  0.896663  0.051519   \n",
              "s2   0.219243  0.142637  0.261170  0.185558  0.896663  1.000000 -0.196455   \n",
              "s3  -0.075181 -0.379090 -0.366811 -0.178761  0.051519 -0.196455  1.000000   \n",
              "s4   0.203841  0.332115  0.413807  0.257653  0.542207  0.659817 -0.738493   \n",
              "s5   0.270777  0.149918  0.446159  0.393478  0.515501  0.318353 -0.398577   \n",
              "s6   0.301731  0.208133  0.388680  0.390429  0.325717  0.290600 -0.273697   \n",
              "Y    0.187889  0.043062  0.586450  0.441484  0.212022  0.174054 -0.394789   \n",
              "\n",
              "           s4        s5        s6         Y  \n",
              "age  0.203841  0.270777  0.301731  0.187889  \n",
              "sex  0.332115  0.149918  0.208133  0.043062  \n",
              "bmi  0.413807  0.446159  0.388680  0.586450  \n",
              "bp   0.257653  0.393478  0.390429  0.441484  \n",
              "s1   0.542207  0.515501  0.325717  0.212022  \n",
              "s2   0.659817  0.318353  0.290600  0.174054  \n",
              "s3  -0.738493 -0.398577 -0.273697 -0.394789  \n",
              "s4   1.000000  0.617857  0.417212  0.430453  \n",
              "s5   0.617857  1.000000  0.464670  0.565883  \n",
              "s6   0.417212  0.464670  1.000000  0.382483  \n",
              "Y    0.430453  0.565883  0.382483  1.000000  "
            ],
            "text/html": [
              "\n",
              "  <div id=\"df-9ed5a9e5-716d-41e8-b423-3cb76ae80fe6\">\n",
              "    <div class=\"colab-df-container\">\n",
              "      <div>\n",
              "<style scoped>\n",
              "    .dataframe tbody tr th:only-of-type {\n",
              "        vertical-align: middle;\n",
              "    }\n",
              "\n",
              "    .dataframe tbody tr th {\n",
              "        vertical-align: top;\n",
              "    }\n",
              "\n",
              "    .dataframe thead th {\n",
              "        text-align: right;\n",
              "    }\n",
              "</style>\n",
              "<table border=\"1\" class=\"dataframe\">\n",
              "  <thead>\n",
              "    <tr style=\"text-align: right;\">\n",
              "      <th></th>\n",
              "      <th>age</th>\n",
              "      <th>sex</th>\n",
              "      <th>bmi</th>\n",
              "      <th>bp</th>\n",
              "      <th>s1</th>\n",
              "      <th>s2</th>\n",
              "      <th>s3</th>\n",
              "      <th>s4</th>\n",
              "      <th>s5</th>\n",
              "      <th>s6</th>\n",
              "      <th>Y</th>\n",
              "    </tr>\n",
              "  </thead>\n",
              "  <tbody>\n",
              "    <tr>\n",
              "      <th>age</th>\n",
              "      <td>1.000000</td>\n",
              "      <td>0.173737</td>\n",
              "      <td>0.185085</td>\n",
              "      <td>0.335427</td>\n",
              "      <td>0.260061</td>\n",
              "      <td>0.219243</td>\n",
              "      <td>-0.075181</td>\n",
              "      <td>0.203841</td>\n",
              "      <td>0.270777</td>\n",
              "      <td>0.301731</td>\n",
              "      <td>0.187889</td>\n",
              "    </tr>\n",
              "    <tr>\n",
              "      <th>sex</th>\n",
              "      <td>0.173737</td>\n",
              "      <td>1.000000</td>\n",
              "      <td>0.088161</td>\n",
              "      <td>0.241013</td>\n",
              "      <td>0.035277</td>\n",
              "      <td>0.142637</td>\n",
              "      <td>-0.379090</td>\n",
              "      <td>0.332115</td>\n",
              "      <td>0.149918</td>\n",
              "      <td>0.208133</td>\n",
              "      <td>0.043062</td>\n",
              "    </tr>\n",
              "    <tr>\n",
              "      <th>bmi</th>\n",
              "      <td>0.185085</td>\n",
              "      <td>0.088161</td>\n",
              "      <td>1.000000</td>\n",
              "      <td>0.395415</td>\n",
              "      <td>0.249777</td>\n",
              "      <td>0.261170</td>\n",
              "      <td>-0.366811</td>\n",
              "      <td>0.413807</td>\n",
              "      <td>0.446159</td>\n",
              "      <td>0.388680</td>\n",
              "      <td>0.586450</td>\n",
              "    </tr>\n",
              "    <tr>\n",
              "      <th>bp</th>\n",
              "      <td>0.335427</td>\n",
              "      <td>0.241013</td>\n",
              "      <td>0.395415</td>\n",
              "      <td>1.000000</td>\n",
              "      <td>0.242470</td>\n",
              "      <td>0.185558</td>\n",
              "      <td>-0.178761</td>\n",
              "      <td>0.257653</td>\n",
              "      <td>0.393478</td>\n",
              "      <td>0.390429</td>\n",
              "      <td>0.441484</td>\n",
              "    </tr>\n",
              "    <tr>\n",
              "      <th>s1</th>\n",
              "      <td>0.260061</td>\n",
              "      <td>0.035277</td>\n",
              "      <td>0.249777</td>\n",
              "      <td>0.242470</td>\n",
              "      <td>1.000000</td>\n",
              "      <td>0.896663</td>\n",
              "      <td>0.051519</td>\n",
              "      <td>0.542207</td>\n",
              "      <td>0.515501</td>\n",
              "      <td>0.325717</td>\n",
              "      <td>0.212022</td>\n",
              "    </tr>\n",
              "    <tr>\n",
              "      <th>s2</th>\n",
              "      <td>0.219243</td>\n",
              "      <td>0.142637</td>\n",
              "      <td>0.261170</td>\n",
              "      <td>0.185558</td>\n",
              "      <td>0.896663</td>\n",
              "      <td>1.000000</td>\n",
              "      <td>-0.196455</td>\n",
              "      <td>0.659817</td>\n",
              "      <td>0.318353</td>\n",
              "      <td>0.290600</td>\n",
              "      <td>0.174054</td>\n",
              "    </tr>\n",
              "    <tr>\n",
              "      <th>s3</th>\n",
              "      <td>-0.075181</td>\n",
              "      <td>-0.379090</td>\n",
              "      <td>-0.366811</td>\n",
              "      <td>-0.178761</td>\n",
              "      <td>0.051519</td>\n",
              "      <td>-0.196455</td>\n",
              "      <td>1.000000</td>\n",
              "      <td>-0.738493</td>\n",
              "      <td>-0.398577</td>\n",
              "      <td>-0.273697</td>\n",
              "      <td>-0.394789</td>\n",
              "    </tr>\n",
              "    <tr>\n",
              "      <th>s4</th>\n",
              "      <td>0.203841</td>\n",
              "      <td>0.332115</td>\n",
              "      <td>0.413807</td>\n",
              "      <td>0.257653</td>\n",
              "      <td>0.542207</td>\n",
              "      <td>0.659817</td>\n",
              "      <td>-0.738493</td>\n",
              "      <td>1.000000</td>\n",
              "      <td>0.617857</td>\n",
              "      <td>0.417212</td>\n",
              "      <td>0.430453</td>\n",
              "    </tr>\n",
              "    <tr>\n",
              "      <th>s5</th>\n",
              "      <td>0.270777</td>\n",
              "      <td>0.149918</td>\n",
              "      <td>0.446159</td>\n",
              "      <td>0.393478</td>\n",
              "      <td>0.515501</td>\n",
              "      <td>0.318353</td>\n",
              "      <td>-0.398577</td>\n",
              "      <td>0.617857</td>\n",
              "      <td>1.000000</td>\n",
              "      <td>0.464670</td>\n",
              "      <td>0.565883</td>\n",
              "    </tr>\n",
              "    <tr>\n",
              "      <th>s6</th>\n",
              "      <td>0.301731</td>\n",
              "      <td>0.208133</td>\n",
              "      <td>0.388680</td>\n",
              "      <td>0.390429</td>\n",
              "      <td>0.325717</td>\n",
              "      <td>0.290600</td>\n",
              "      <td>-0.273697</td>\n",
              "      <td>0.417212</td>\n",
              "      <td>0.464670</td>\n",
              "      <td>1.000000</td>\n",
              "      <td>0.382483</td>\n",
              "    </tr>\n",
              "    <tr>\n",
              "      <th>Y</th>\n",
              "      <td>0.187889</td>\n",
              "      <td>0.043062</td>\n",
              "      <td>0.586450</td>\n",
              "      <td>0.441484</td>\n",
              "      <td>0.212022</td>\n",
              "      <td>0.174054</td>\n",
              "      <td>-0.394789</td>\n",
              "      <td>0.430453</td>\n",
              "      <td>0.565883</td>\n",
              "      <td>0.382483</td>\n",
              "      <td>1.000000</td>\n",
              "    </tr>\n",
              "  </tbody>\n",
              "</table>\n",
              "</div>\n",
              "      <button class=\"colab-df-convert\" onclick=\"convertToInteractive('df-9ed5a9e5-716d-41e8-b423-3cb76ae80fe6')\"\n",
              "              title=\"Convert this dataframe to an interactive table.\"\n",
              "              style=\"display:none;\">\n",
              "        \n",
              "  <svg xmlns=\"http://www.w3.org/2000/svg\" height=\"24px\"viewBox=\"0 0 24 24\"\n",
              "       width=\"24px\">\n",
              "    <path d=\"M0 0h24v24H0V0z\" fill=\"none\"/>\n",
              "    <path d=\"M18.56 5.44l.94 2.06.94-2.06 2.06-.94-2.06-.94-.94-2.06-.94 2.06-2.06.94zm-11 1L8.5 8.5l.94-2.06 2.06-.94-2.06-.94L8.5 2.5l-.94 2.06-2.06.94zm10 10l.94 2.06.94-2.06 2.06-.94-2.06-.94-.94-2.06-.94 2.06-2.06.94z\"/><path d=\"M17.41 7.96l-1.37-1.37c-.4-.4-.92-.59-1.43-.59-.52 0-1.04.2-1.43.59L10.3 9.45l-7.72 7.72c-.78.78-.78 2.05 0 2.83L4 21.41c.39.39.9.59 1.41.59.51 0 1.02-.2 1.41-.59l7.78-7.78 2.81-2.81c.8-.78.8-2.07 0-2.86zM5.41 20L4 18.59l7.72-7.72 1.47 1.35L5.41 20z\"/>\n",
              "  </svg>\n",
              "      </button>\n",
              "      \n",
              "  <style>\n",
              "    .colab-df-container {\n",
              "      display:flex;\n",
              "      flex-wrap:wrap;\n",
              "      gap: 12px;\n",
              "    }\n",
              "\n",
              "    .colab-df-convert {\n",
              "      background-color: #E8F0FE;\n",
              "      border: none;\n",
              "      border-radius: 50%;\n",
              "      cursor: pointer;\n",
              "      display: none;\n",
              "      fill: #1967D2;\n",
              "      height: 32px;\n",
              "      padding: 0 0 0 0;\n",
              "      width: 32px;\n",
              "    }\n",
              "\n",
              "    .colab-df-convert:hover {\n",
              "      background-color: #E2EBFA;\n",
              "      box-shadow: 0px 1px 2px rgba(60, 64, 67, 0.3), 0px 1px 3px 1px rgba(60, 64, 67, 0.15);\n",
              "      fill: #174EA6;\n",
              "    }\n",
              "\n",
              "    [theme=dark] .colab-df-convert {\n",
              "      background-color: #3B4455;\n",
              "      fill: #D2E3FC;\n",
              "    }\n",
              "\n",
              "    [theme=dark] .colab-df-convert:hover {\n",
              "      background-color: #434B5C;\n",
              "      box-shadow: 0px 1px 3px 1px rgba(0, 0, 0, 0.15);\n",
              "      filter: drop-shadow(0px 1px 2px rgba(0, 0, 0, 0.3));\n",
              "      fill: #FFFFFF;\n",
              "    }\n",
              "  </style>\n",
              "\n",
              "      <script>\n",
              "        const buttonEl =\n",
              "          document.querySelector('#df-9ed5a9e5-716d-41e8-b423-3cb76ae80fe6 button.colab-df-convert');\n",
              "        buttonEl.style.display =\n",
              "          google.colab.kernel.accessAllowed ? 'block' : 'none';\n",
              "\n",
              "        async function convertToInteractive(key) {\n",
              "          const element = document.querySelector('#df-9ed5a9e5-716d-41e8-b423-3cb76ae80fe6');\n",
              "          const dataTable =\n",
              "            await google.colab.kernel.invokeFunction('convertToInteractive',\n",
              "                                                     [key], {});\n",
              "          if (!dataTable) return;\n",
              "\n",
              "          const docLinkHtml = 'Like what you see? Visit the ' +\n",
              "            '<a target=\"_blank\" href=https://colab.research.google.com/notebooks/data_table.ipynb>data table notebook</a>'\n",
              "            + ' to learn more about interactive tables.';\n",
              "          element.innerHTML = '';\n",
              "          dataTable['output_type'] = 'display_data';\n",
              "          await google.colab.output.renderOutput(dataTable, element);\n",
              "          const docLink = document.createElement('div');\n",
              "          docLink.innerHTML = docLinkHtml;\n",
              "          element.appendChild(docLink);\n",
              "        }\n",
              "      </script>\n",
              "    </div>\n",
              "  </div>\n",
              "  "
            ]
          },
          "metadata": {},
          "execution_count": 153
        }
      ],
      "source": [
        "#Correlaciones lineales\n",
        "table_data.corr()"
      ]
    },
    {
      "cell_type": "markdown",
      "metadata": {
        "id": "yTTo2PxbCSVF"
      },
      "source": [
        "La variable $bmi$ (índice de masa corporal) muestra una correlación positiva alta, por tanto, puede servirnos para realizar la correlación lineal. Tomaremos, entonces, esta variable como nuestra variable de entrada. "
      ]
    },
    {
      "cell_type": "code",
      "execution_count": 154,
      "metadata": {
        "id": "TL0VqqRxCSVG"
      },
      "outputs": [],
      "source": [
        "#X\n",
        "X_bmi = table_data[['bmi']].to_numpy()\n",
        "#Y\n",
        "Y = data.target"
      ]
    },
    {
      "cell_type": "code",
      "execution_count": 155,
      "metadata": {
        "id": "28BU6S7aCSVI",
        "outputId": "4970b34d-0ffb-4d6a-9967-8121400ddc97",
        "colab": {
          "base_uri": "https://localhost:8080/",
          "height": 281
        }
      },
      "outputs": [
        {
          "output_type": "display_data",
          "data": {
            "text/plain": [
              "<Figure size 432x288 with 1 Axes>"
            ],
            "image/png": "[encoded data removed]"
          },
          "metadata": {
            "needs_background": "light"
          }
        }
      ],
      "source": [
        "#Visualización\n",
        "plt.scatter(X_bmi, Y)\n",
        "plt.title('Dataset completo')\n",
        "plt.show()"
      ]
    },
    {
      "cell_type": "markdown",
      "metadata": {
        "id": "0kNb_YLwCSVJ"
      },
      "source": [
        "## 2. Separación de los datos en entrenamiento y evaluación\n",
        "\n",
        "A continuación separaremos los datos en entrenamiento (70\\%) y evaluación (30%)."
      ]
    },
    {
      "cell_type": "code",
      "execution_count": 156,
      "metadata": {
        "id": "AkkLcBQgCSVK",
        "outputId": "0cba350e-938c-4fe3-8601-e36afe630f7b",
        "colab": {
          "base_uri": "https://localhost:8080/"
        }
      },
      "outputs": [
        {
          "output_type": "stream",
          "name": "stdout",
          "text": [
            "(309, 1)\n",
            "(133, 1)\n",
            "(309,)\n",
            "(133,)\n"
          ]
        }
      ],
      "source": [
        "#Separación de los datos\n",
        "X_train, X_test, Y_train, Y_test = train_test_split(X_bmi,Y, test_size=0.3)\n",
        "#Longitud de entrada de entrenamiento\n",
        "print(X_train.shape)\n",
        "#Longitud de entrada de evaluación\n",
        "print(X_test.shape)\n",
        "#Longitud de salida de entrenamiento\n",
        "print(Y_train.shape)\n",
        "#Longitud de salida de evaluación\n",
        "print(Y_test.shape)"
      ]
    },
    {
      "cell_type": "code",
      "execution_count": 157,
      "metadata": {
        "id": "xDo4AbNVCSVL",
        "outputId": "fa125db9-076f-49f2-948c-2a85e12a36e2",
        "colab": {
          "base_uri": "https://localhost:8080/",
          "height": 281
        }
      },
      "outputs": [
        {
          "output_type": "display_data",
          "data": {
            "text/plain": [
              "<Figure size 432x288 with 1 Axes>"
            ],
            "image/png": "[encoded data removed]"
          },
          "metadata": {
            "needs_background": "light"
          }
        }
      ],
      "source": [
        "#Visualización datos de entrenamiento\n",
        "plt.scatter(X_train,Y_train)\n",
        "plt.title('Train dataset')\n",
        "plt.show()"
      ]
    },
    {
      "cell_type": "code",
      "execution_count": 158,
      "metadata": {
        "id": "h_bwdhXtCSVL",
        "outputId": "b9ace6bb-df26-4e78-c8c8-13ec3051bccc",
        "colab": {
          "base_uri": "https://localhost:8080/",
          "height": 281
        }
      },
      "outputs": [
        {
          "output_type": "display_data",
          "data": {
            "text/plain": [
              "<Figure size 432x288 with 1 Axes>"
            ],
            "image/png": "[encoded data removed]"
          },
          "metadata": {
            "needs_background": "light"
          }
        }
      ],
      "source": [
        "#Visualización datos de evaluación\n",
        "plt.scatter(X_test,Y_test)\n",
        "plt.title('Test dataset')\n",
        "plt.show()"
      ]
    },
    {
      "cell_type": "markdown",
      "metadata": {
        "id": "23xo_miTCSVM"
      },
      "source": [
        "## 3. Estimación de la regresión\n",
        "\n",
        "Recordemos que un método de regresión lineal está definido por una familia de funciones de la forma:\n",
        "\n",
        "$$f(x) = wx+b$$\n",
        "\n",
        "Para estimar los parámetros que mejor describan nuestros datos, bastará enontrar el mínimo de la función:\n",
        "\n",
        "$$R(w) = \\frac{1}{2} ||f(X) - Y||^2$$\n",
        "\n",
        "El mínimo de esta función se puede estimar obteniendo la derivada de la función e igualando a cero. La derivada de la función está dada por:\n",
        "\n",
        "\\begin{align}\n",
        "    \\nabla_w R(w) &= (f(X) - Y)X \\\\\n",
        "                  &= (Xw - Y)X \\\\\n",
        "                  &= X^TXw-X^TY\n",
        "\\end{align}\n",
        "\n",
        "De aquí que, cuando $\\nabla_w R(w) = 0$, entonces:\n",
        "\n",
        "$$w = (X^T X)^{-1}X^TY$$\n",
        "\n",
        "Nota: Para simplificar el método, agreamos una columna con 1's a los datos de entrada, de tal forma que $x' = [x;1]$. este 1 servirá para representar el bias, de tal forma que la función $f(x) = wx'$; es decir, el bias será una entrada (la última) del vector w."
      ]
    },
    {
      "cell_type": "code",
      "execution_count": 159,
      "metadata": {
        "id": "7QnCMPtdCSVO",
        "outputId": "eb34c734-3686-496b-c101-f8e542cd571f",
        "colab": {
          "base_uri": "https://localhost:8080/"
        }
      },
      "outputs": [
        {
          "output_type": "stream",
          "name": "stdout",
          "text": [
            "(309, 2)\n"
          ]
        }
      ],
      "source": [
        "#Se concatena una columna de 1's a X\n",
        "Xb = np.concatenate((X_train, np.ones((len(X_train),1))), axis=1)\n",
        "print(Xb.shape)"
      ]
    },
    {
      "cell_type": "markdown",
      "metadata": {
        "id": "jI68zaQMCSVO"
      },
      "source": [
        "Obtenemos el vector $w$ (este vector incluye el bias)."
      ]
    },
    {
      "cell_type": "code",
      "execution_count": 160,
      "metadata": {
        "id": "SmuNCcgHCSVP"
      },
      "outputs": [],
      "source": [
        "#XX^-1 \n",
        "term1 = np.linalg.inv(np.dot(Xb.T,Xb))\n",
        "#XY\n",
        "term2 = np.dot(Xb.T,Y_train)\n",
        "\n",
        "#Vector solución\n",
        "w = np.dot(term1,term2)"
      ]
    },
    {
      "cell_type": "markdown",
      "metadata": {
        "id": "niwHatcCCSVP"
      },
      "source": [
        "La recta que se ajusta los datos está definida por la función $f(x)$ que depende de $w$. Por tanto, podemos visualizar qué tanto esta recta se ajusta a los datos. En este caso, visualizamos tanto con los datos de entrenamiento como con los de evaluación, pero debe recordarse que la evaluación del modelo de regresión sólo debe realizarse sobre datos que no se vieron en el entrenamiento."
      ]
    },
    {
      "cell_type": "code",
      "execution_count": 161,
      "metadata": {
        "id": "ClgZaz9_CSVQ",
        "outputId": "f73ba41a-ea5a-474a-bf38-70efa47165a2",
        "colab": {
          "base_uri": "https://localhost:8080/",
          "height": 281
        }
      },
      "outputs": [
        {
          "output_type": "display_data",
          "data": {
            "text/plain": [
              "<Figure size 432x288 with 1 Axes>"
            ],
            "image/png": "[encoded data removed]"
          },
          "metadata": {
            "needs_background": "light"
          }
        }
      ],
      "source": [
        "#Visualización en datos de entrenamieno\n",
        "plt.scatter(X_train, Y_train)\n",
        "plt.plot(X_train, np.dot(Xb,w), color='r')\n",
        "plt.title('Regression (train data)')\n",
        "plt.show()"
      ]
    },
    {
      "cell_type": "code",
      "execution_count": 162,
      "metadata": {
        "id": "5d734iROCSVQ",
        "outputId": "2afaf9ad-33d3-4554-bcfe-dd2f21660f06",
        "colab": {
          "base_uri": "https://localhost:8080/",
          "height": 281
        }
      },
      "outputs": [
        {
          "output_type": "display_data",
          "data": {
            "text/plain": [
              "<Figure size 432x288 with 1 Axes>"
            ],
            "image/png": "[encoded data removed]"
          },
          "metadata": {
            "needs_background": "light"
          }
        }
      ],
      "source": [
        "#Visualización en datos de evaluación\n",
        "plt.scatter(X_test, Y_test)\n",
        "plt.plot(X_test, np.dot(X_test,w[0])+w[1], color='r')\n",
        "plt.title('Regression (test data)')\n",
        "plt.show()"
      ]
    },
    {
      "cell_type": "markdown",
      "metadata": {
        "id": "O4XBQIRqCSVR"
      },
      "source": [
        "## 4. Evaluación del modelo\n",
        "\n",
        "Finalmente, podemos ver cómo se comporta el error a través del dataset de entrenamiento y de evaluación. El error que nos interesa reportar (para determinar la capacidad de generalización de nuestro modelo) es el error de evaluación."
      ]
    },
    {
      "cell_type": "code",
      "source": [
        "'''\n",
        "Primero definimos una función que calcule el error cuadrático\n",
        "medio con numpy a partir de los datos de entrada, la variable\n",
        "de salida y los parámetros calculados por la regresión lineal.\n",
        "'''\n",
        "def mean_square_error(X,Y,w):\n",
        "    Xbias = np.concatenate((X, np.ones((len(Y),1))), axis=1)\n",
        "    return np.linalg.norm(Y-np.dot(Xbias,w))**2/len(Y)\n",
        "\n",
        "'''\n",
        "También definimos una función que calcule el score R2 con numpy\n",
        "a partir de los datos de entrada, la variable de salida y los\n",
        "parámetros calculados por la regresión lineal.\n",
        "'''\n",
        "def r2_score(X,Y,w):\n",
        "    Ymean = Y.sum(0)/len(Y)\n",
        "    SSres = mean_square_error(X,Y,w)*len(X)\n",
        "    SStot = np.linalg.norm(Y-Ymean)**2\n",
        "    return 1 - (SSres/SStot)"
      ],
      "metadata": {
        "id": "hlrEa1UlIJB3"
      },
      "execution_count": 163,
      "outputs": []
    },
    {
      "cell_type": "code",
      "execution_count": 164,
      "metadata": {
        "id": "qywgEvf6CSVS",
        "outputId": "0c243837-6f48-4071-e513-f871cfca4128",
        "colab": {
          "base_uri": "https://localhost:8080/"
        }
      },
      "outputs": [
        {
          "output_type": "stream",
          "name": "stdout",
          "text": [
            "Error train (MSE): 3831.974752204557\n",
            "Error test (MSR): 4051.951218308712\n",
            "\n",
            "Error train (R2): 0.3562069958738896\n",
            "Error test (R2): 0.31033443969827135\n"
          ]
        }
      ],
      "source": [
        "    #Error de entrenamiento con MSE\n",
        "print('Error train (MSE):', mean_square_error(X_train,Y_train,w))\n",
        "#Error de evaluación con MSE\n",
        "print('Error test (MSR):', mean_square_error(X_test,Y_test,w))\n",
        "\n",
        "print()\n",
        "\n",
        "#Error de entrenamiento con R2\n",
        "print('Error train (R2):', r2_score(X_train,Y_train,w))\n",
        "#Error de evaluación con R2\n",
        "print('Error test (R2):', r2_score(X_test,Y_test,w))"
      ]
    },
    {
      "cell_type": "markdown",
      "metadata": {
        "id": "QlLZnk1eCSVW"
      },
      "source": [
        "# Regresión lineal con múltiples variables\n",
        "\n",
        "## 1. Preparación de los datos\n",
        "\n",
        "En el caso anterior sólo hemos tomado la variable $bmi$ como variable de entrada en la regresión (esto permite visualizar la regresión en un plano 2-dimensional). Pero la regresión lineal puede estimarse tomando en cuenta $d$ variables de entrada. Así, podemos tomar las 10 variables de los datos y ver cuáles son las que muestran mayor influencia en el desarrollo de la diabetes."
      ]
    },
    {
      "cell_type": "code",
      "execution_count": 165,
      "metadata": {
        "id": "7IBytJ97CSVX"
      },
      "outputs": [],
      "source": [
        "#todos los datos\n",
        "X_all = data.data"
      ]
    },
    {
      "cell_type": "markdown",
      "metadata": {
        "id": "E2-o52THCSVY"
      },
      "source": [
        "A partir de estos datos obtenemos los parámetros de la función lineal que mejor se ajusten de la forma ya conocida."
      ]
    },
    {
      "cell_type": "code",
      "execution_count": 166,
      "metadata": {
        "id": "Z9nRwNZ9CSVY",
        "colab": {
          "base_uri": "https://localhost:8080/"
        },
        "outputId": "a8fc2886-8824-47fb-bcdd-308d44dfb4f1"
      },
      "outputs": [
        {
          "output_type": "stream",
          "name": "stdout",
          "text": [
            "Error: 2859.6903987680653\n"
          ]
        }
      ],
      "source": [
        "#Se agrega una columna de 1's\n",
        "Xb = np.concatenate((X_all, np.ones((len(X_bmi),1))), axis=1)\n",
        "\n",
        "#Primer término\n",
        "term1 = np.linalg.inv(np.dot(Xb.T,Xb))\n",
        "#Segundo término\n",
        "term2 = np.dot(Xb.T,Y)\n",
        "\n",
        "#Obtención de parámetros\n",
        "W = np.dot(term1,term2)\n",
        "\n",
        "#Error sobre todo los datos usando la función\n",
        "#que definimos anteriormente.\n",
        "print('Error:', mean_square_error(X_all,Y,W))"
      ]
    },
    {
      "cell_type": "markdown",
      "source": [
        "## 2. Separación en datos de entrenamiento y evaluación\n",
        "\n",
        "Los parámetros anteriores se obtuvieron usando todos los datos pero esto hace que la evaluación esté sesgada porque no tenemos forma de evaluar la capacida de generalización del modelo por lo que necesitamos dividir nuestro conjunto de datos."
      ],
      "metadata": {
        "id": "auqyzT1WCSVZ"
      }
    },
    {
      "cell_type": "code",
      "source": [
        "#Separación de los datos\n",
        "X_train, X_test, Y_train, Y_test = train_test_split(X_all,Y, test_size=0.3)\n",
        "#Longitud de entrada de entrenamiento\n",
        "print(X_train.shape)\n",
        "#Longitud de entrada de evaluación\n",
        "print(X_test.shape)\n",
        "#Longitud de salida de entrenamiento\n",
        "print(Y_train.shape)\n",
        "#Longitud de salida de evaluación\n",
        "print(Y_test.shape)"
      ],
      "metadata": {
        "colab": {
          "base_uri": "https://localhost:8080/"
        },
        "id": "fZCuEJVeUEwl",
        "outputId": "6cf23caa-3368-452d-9324-3dc66661d76c"
      },
      "execution_count": 167,
      "outputs": [
        {
          "output_type": "stream",
          "name": "stdout",
          "text": [
            "(309, 10)\n",
            "(133, 10)\n",
            "(309,)\n",
            "(133,)\n"
          ]
        }
      ]
    },
    {
      "cell_type": "markdown",
      "source": [
        "## 3. Entrenamiento"
      ],
      "metadata": {
        "id": "7-fZw_LLXVg4"
      }
    },
    {
      "cell_type": "code",
      "source": [
        "#Se agrega una columna de 1's\n",
        "Xb = np.concatenate((X_train, np.ones((len(Y_train),1))), axis=1)\n",
        "\n",
        "#Primer término\n",
        "term1 = np.linalg.inv(np.dot(Xb.T,Xb))\n",
        "#Segundo término\n",
        "term2 = np.dot(Xb.T,Y_train)\n",
        "\n",
        "#Obtención de parámetros\n",
        "W = np.dot(term1,term2)\n",
        "W"
      ],
      "metadata": {
        "colab": {
          "base_uri": "https://localhost:8080/"
        },
        "id": "is87BCpiXep_",
        "outputId": "82d9d0b9-d852-4942-80c9-8ab2902a71c0"
      },
      "execution_count": 168,
      "outputs": [
        {
          "output_type": "execute_result",
          "data": {
            "text/plain": [
              "array([ -22.098738  , -188.72190822,  527.5689283 ,  330.28534791,\n",
              "       -726.87367979,  457.24699523,   84.99739454,  126.81867861,\n",
              "        737.90843753,   45.03137172,  153.70039683])"
            ]
          },
          "metadata": {},
          "execution_count": 168
        }
      ]
    },
    {
      "cell_type": "markdown",
      "source": [
        "##4. Evaluación del modelo\n",
        "Finalmente, para evaluar el modelo usamos las mismas funciones que definimos anteriormente (ya que por su implementación funciona sin importar la dimensión del vector de entrada) para obtener el error de entrenamiento y evaluación usando el error cuadrático medio y $R^2$."
      ],
      "metadata": {
        "id": "qtSDFfdmYQS_"
      }
    },
    {
      "cell_type": "code",
      "source": [
        "#Error de entrenamiento con MSE\n",
        "print('Error train (MSE):', mean_square_error(X_train,Y_train,W))\n",
        "#Error de evaluación con MSE\n",
        "print('Error test (MSR):', mean_square_error(X_test,Y_test,W))\n",
        "\n",
        "print()\n",
        "\n",
        "#Error de entrenamiento con R2\n",
        "print('Error train (R2):', r2_score(X_train,Y_train,W))\n",
        "#Error de evaluación con R2\n",
        "print('Error test (R2):', r2_score(X_test,Y_test,W))"
      ],
      "metadata": {
        "colab": {
          "base_uri": "https://localhost:8080/"
        },
        "id": "W_6h0k87YVUm",
        "outputId": "d031f82f-6487-406b-b15f-2ec1c2e65348"
      },
      "execution_count": 169,
      "outputs": [
        {
          "output_type": "stream",
          "name": "stdout",
          "text": [
            "Error train (MSE): 2893.9852142878403\n",
            "Error test (MSR): 2811.6327537640423\n",
            "\n",
            "Error train (R2): 0.5120716632280307\n",
            "Error test (R2): 0.509884668742925\n"
          ]
        }
      ]
    },
    {
      "cell_type": "markdown",
      "metadata": {
        "id": "J0PKK4F9CSVZ"
      },
      "source": [
        "El vector $W$ que hemos estimado nos da información importante sobre el comportamiento de las variables de entrada. Aquellas variables con mayor correlación influirán más en la decisión del precio. Así, una variable con alta correlación positiva tenderá a tener un peso mayor (positivo), mientras que una variable con correlación negativa tendrá un peso con valor negativo."
      ]
    },
    {
      "cell_type": "code",
      "execution_count": 170,
      "metadata": {
        "id": "wSAoC-FdCSVa",
        "outputId": "fcc810e5-205e-4197-c574-4cad6f210466",
        "colab": {
          "base_uri": "https://localhost:8080/",
          "height": 81
        }
      },
      "outputs": [
        {
          "output_type": "execute_result",
          "data": {
            "text/plain": [
              "         age         sex         bmi          bp         s1          s2  \\\n",
              "0 -22.098738 -188.721908  527.568928  330.285348 -726.87368  457.246995   \n",
              "\n",
              "          s3          s4          s5         s6        bias  \n",
              "0  84.997395  126.818679  737.908438  45.031372  153.700397  "
            ],
            "text/html": [
              "\n",
              "  <div id=\"df-bff96c33-0db8-4119-a671-4d5fb035af2e\">\n",
              "    <div class=\"colab-df-container\">\n",
              "      <div>\n",
              "<style scoped>\n",
              "    .dataframe tbody tr th:only-of-type {\n",
              "        vertical-align: middle;\n",
              "    }\n",
              "\n",
              "    .dataframe tbody tr th {\n",
              "        vertical-align: top;\n",
              "    }\n",
              "\n",
              "    .dataframe thead th {\n",
              "        text-align: right;\n",
              "    }\n",
              "</style>\n",
              "<table border=\"1\" class=\"dataframe\">\n",
              "  <thead>\n",
              "    <tr style=\"text-align: right;\">\n",
              "      <th></th>\n",
              "      <th>age</th>\n",
              "      <th>sex</th>\n",
              "      <th>bmi</th>\n",
              "      <th>bp</th>\n",
              "      <th>s1</th>\n",
              "      <th>s2</th>\n",
              "      <th>s3</th>\n",
              "      <th>s4</th>\n",
              "      <th>s5</th>\n",
              "      <th>s6</th>\n",
              "      <th>bias</th>\n",
              "    </tr>\n",
              "  </thead>\n",
              "  <tbody>\n",
              "    <tr>\n",
              "      <th>0</th>\n",
              "      <td>-22.098738</td>\n",
              "      <td>-188.721908</td>\n",
              "      <td>527.568928</td>\n",
              "      <td>330.285348</td>\n",
              "      <td>-726.87368</td>\n",
              "      <td>457.246995</td>\n",
              "      <td>84.997395</td>\n",
              "      <td>126.818679</td>\n",
              "      <td>737.908438</td>\n",
              "      <td>45.031372</td>\n",
              "      <td>153.700397</td>\n",
              "    </tr>\n",
              "  </tbody>\n",
              "</table>\n",
              "</div>\n",
              "      <button class=\"colab-df-convert\" onclick=\"convertToInteractive('df-bff96c33-0db8-4119-a671-4d5fb035af2e')\"\n",
              "              title=\"Convert this dataframe to an interactive table.\"\n",
              "              style=\"display:none;\">\n",
              "        \n",
              "  <svg xmlns=\"http://www.w3.org/2000/svg\" height=\"24px\"viewBox=\"0 0 24 24\"\n",
              "       width=\"24px\">\n",
              "    <path d=\"M0 0h24v24H0V0z\" fill=\"none\"/>\n",
              "    <path d=\"M18.56 5.44l.94 2.06.94-2.06 2.06-.94-2.06-.94-.94-2.06-.94 2.06-2.06.94zm-11 1L8.5 8.5l.94-2.06 2.06-.94-2.06-.94L8.5 2.5l-.94 2.06-2.06.94zm10 10l.94 2.06.94-2.06 2.06-.94-2.06-.94-.94-2.06-.94 2.06-2.06.94z\"/><path d=\"M17.41 7.96l-1.37-1.37c-.4-.4-.92-.59-1.43-.59-.52 0-1.04.2-1.43.59L10.3 9.45l-7.72 7.72c-.78.78-.78 2.05 0 2.83L4 21.41c.39.39.9.59 1.41.59.51 0 1.02-.2 1.41-.59l7.78-7.78 2.81-2.81c.8-.78.8-2.07 0-2.86zM5.41 20L4 18.59l7.72-7.72 1.47 1.35L5.41 20z\"/>\n",
              "  </svg>\n",
              "      </button>\n",
              "      \n",
              "  <style>\n",
              "    .colab-df-container {\n",
              "      display:flex;\n",
              "      flex-wrap:wrap;\n",
              "      gap: 12px;\n",
              "    }\n",
              "\n",
              "    .colab-df-convert {\n",
              "      background-color: #E8F0FE;\n",
              "      border: none;\n",
              "      border-radius: 50%;\n",
              "      cursor: pointer;\n",
              "      display: none;\n",
              "      fill: #1967D2;\n",
              "      height: 32px;\n",
              "      padding: 0 0 0 0;\n",
              "      width: 32px;\n",
              "    }\n",
              "\n",
              "    .colab-df-convert:hover {\n",
              "      background-color: #E2EBFA;\n",
              "      box-shadow: 0px 1px 2px rgba(60, 64, 67, 0.3), 0px 1px 3px 1px rgba(60, 64, 67, 0.15);\n",
              "      fill: #174EA6;\n",
              "    }\n",
              "\n",
              "    [theme=dark] .colab-df-convert {\n",
              "      background-color: #3B4455;\n",
              "      fill: #D2E3FC;\n",
              "    }\n",
              "\n",
              "    [theme=dark] .colab-df-convert:hover {\n",
              "      background-color: #434B5C;\n",
              "      box-shadow: 0px 1px 3px 1px rgba(0, 0, 0, 0.15);\n",
              "      filter: drop-shadow(0px 1px 2px rgba(0, 0, 0, 0.3));\n",
              "      fill: #FFFFFF;\n",
              "    }\n",
              "  </style>\n",
              "\n",
              "      <script>\n",
              "        const buttonEl =\n",
              "          document.querySelector('#df-bff96c33-0db8-4119-a671-4d5fb035af2e button.colab-df-convert');\n",
              "        buttonEl.style.display =\n",
              "          google.colab.kernel.accessAllowed ? 'block' : 'none';\n",
              "\n",
              "        async function convertToInteractive(key) {\n",
              "          const element = document.querySelector('#df-bff96c33-0db8-4119-a671-4d5fb035af2e');\n",
              "          const dataTable =\n",
              "            await google.colab.kernel.invokeFunction('convertToInteractive',\n",
              "                                                     [key], {});\n",
              "          if (!dataTable) return;\n",
              "\n",
              "          const docLinkHtml = 'Like what you see? Visit the ' +\n",
              "            '<a target=\"_blank\" href=https://colab.research.google.com/notebooks/data_table.ipynb>data table notebook</a>'\n",
              "            + ' to learn more about interactive tables.';\n",
              "          element.innerHTML = '';\n",
              "          dataTable['output_type'] = 'display_data';\n",
              "          await google.colab.output.renderOutput(dataTable, element);\n",
              "          const docLink = document.createElement('div');\n",
              "          docLink.innerHTML = docLinkHtml;\n",
              "          element.appendChild(docLink);\n",
              "        }\n",
              "      </script>\n",
              "    </div>\n",
              "  </div>\n",
              "  "
            ]
          },
          "metadata": {},
          "execution_count": 170
        }
      ],
      "source": [
        "pd.DataFrame(W.reshape(1,len(W)), columns=list(data.feature_names)+['bias'])"
      ]
    },
    {
      "cell_type": "markdown",
      "metadata": {
        "id": "IcFGI55dCSVa"
      },
      "source": [
        "Podemos visualizar algunas de estas variables para ver el comportamiento lineal que muestran con respecto a la variable $Y$."
      ]
    },
    {
      "cell_type": "code",
      "execution_count": 173,
      "metadata": {
        "id": "Wia3MgncCSVb",
        "outputId": "d0fd9caf-efb5-43f1-fe2e-4b074b9d9449",
        "colab": {
          "base_uri": "https://localhost:8080/",
          "height": 248
        }
      },
      "outputs": [
        {
          "output_type": "display_data",
          "data": {
            "text/plain": [
              "<Figure size 432x288 with 1 Axes>"
            ],
            "image/png": "[encoded data removed]"
          },
          "metadata": {
            "needs_background": "light"
          }
        }
      ],
      "source": [
        "from mpl_toolkits.mplot3d import Axes3D\n",
        "\n",
        "#Visualización de dos variables\n",
        "fig = plt.figure()\n",
        "ax = fig.add_subplot(111, projection='3d')\n",
        "ax.scatter(table_data[['s5']].to_numpy(), table_data[['s1']].to_numpy(), Y)\n",
        "plt.show()"
      ]
    },
    {
      "cell_type": "code",
      "execution_count": 172,
      "metadata": {
        "id": "Y-QP7dwJCSVb",
        "outputId": "cac67de5-7742-4ea5-b2b6-ad7b6f011b86",
        "colab": {
          "base_uri": "https://localhost:8080/",
          "height": 265
        }
      },
      "outputs": [
        {
          "output_type": "display_data",
          "data": {
            "text/plain": [
              "<Figure size 432x288 with 1 Axes>"
            ],
            "image/png": "[encoded data removed]"
          },
          "metadata": {
            "needs_background": "light"
          }
        }
      ],
      "source": [
        "#Visualización de una variable\n",
        "plt.scatter(table_data[['s5']].to_numpy(), Y)\n",
        "plt.show()"
      ]
    }
  ],
  "metadata": {
    "kernelspec": {
      "display_name": "Python 3",
      "language": "python",
      "name": "python3"
    },
    "language_info": {
      "codemirror_mode": {
        "name": "ipython",
        "version": 3
      },
      "file_extension": ".py",
      "mimetype": "text/x-python",
      "name": "python",
      "nbconvert_exporter": "python",
      "pygments_lexer": "ipython3",
      "version": "3.8.8"
    },
    "colab": {
      "provenance": [],
      "collapsed_sections": []
    }
  },
  "nbformat": 4,
  "nbformat_minor": 0
}